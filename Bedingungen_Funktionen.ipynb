{
  "nbformat": 4,
  "nbformat_minor": 0,
  "metadata": {
    "colab": {
      "name": "Bedingungen_Funktionen.ipynb",
      "provenance": [],
      "collapsed_sections": [],
      "authorship_tag": "ABX9TyN7xc3acPNBDdbcFx9Mwg2p",
      "include_colab_link": true
    },
    "kernelspec": {
      "name": "python3",
      "display_name": "Python 3"
    }
  },
  "cells": [
    {
      "cell_type": "markdown",
      "metadata": {
        "id": "view-in-github",
        "colab_type": "text"
      },
      "source": [
        "<a href=\"https://colab.research.google.com/github/dgromann/CrowsourcedKnowledgeAcquisition/blob/master/Bedingungen_Funktionen.ipynb\" target=\"_parent\"></a>"
      ]
    },
    {
      "cell_type": "markdown",
      "metadata": {
        "id": "BVqdKVMLWgOr",
        "colab_type": "text"
      },
      "source": [
        "# Programmieren für ÜbersetzerInnen - Bedinungen und Funktionen \n",
        "\n",
        "Dieses Notebook erklärt die ersten einfachen Bedingungen und Schleifen ebenso wie man Funktionen in Python schreiben kann. "
      ]
    },
    {
      "cell_type": "markdown",
      "metadata": {
        "id": "88yIyBh9rpf1",
        "colab_type": "text"
      },
      "source": [
        "# Letkion 1: Bedingungen\n",
        "Die sogenannten `if`-Anweisung (falls) überprüft ob eine Bedingung erfüllt wird. Die Bedingung steht in derselben Zeile nach dem `if`. Alle Zeilen die nach der Zeile mit dem `if` angeführt sind werden nur ausgegeben wenn die `if`-Bedingung erfüllt ist. "
      ]
    },
    {
      "cell_type": "code",
      "metadata": {
        "id": "hYOn-MXEXeLy",
        "colab_type": "code",
        "colab": {}
      },
      "source": [
        "# Beispiel \n",
        "name = \"Dagmar\"\n",
        "\n",
        "if name == \"Dagmar\": \n",
        "  print(\"Der Name lautet Dagmar.\")\n",
        "  print(\"Nur wenn das so ist, wird dieser Text ausgegeben.\")\n",
        "\n",
        "print(\"Dieser Text wird immer ausgegeben.\")"
      ],
      "execution_count": 0,
      "outputs": []
    },
    {
      "cell_type": "markdown",
      "metadata": {
        "id": "x6ysMeehus87",
        "colab_type": "text"
      },
      "source": [
        "**Aufgabe:** \\\\\n",
        "Wie muss die nachstehende Variable `alter` geändert werden, damit der `print`-Befehl ausführt wird?"
      ]
    },
    {
      "cell_type": "code",
      "metadata": {
        "id": "eNtuwMJzsXHR",
        "colab_type": "code",
        "colab": {}
      },
      "source": [
        "# Auskunft über Ermäßigungen der Eintrittskarten für den Tiergarten Schönnbrunn\n",
        "alter = 5\n",
        "\n",
        "if alter > 15: \n",
        "  print(\"Bitte kaufen Sie eine Eintrittskarte für Erwachsene.\")"
      ],
      "execution_count": 0,
      "outputs": []
    },
    {
      "cell_type": "markdown",
      "metadata": {
        "id": "vWcjRGeHvM1e",
        "colab_type": "text"
      },
      "source": [
        "Wenn mann eine Bedingung hat und auch einen bestimmten Code addressieren möchte wenn diese Bedingung nicht erfüllt ist, kann man `else` verwenden. Also immer wenn die Bedingung der `if`-Anweisung nicht erfüllt ist, wird der Code nach `else` ausgeführt. \n",
        "\n",
        "Bitte beachten Sie: wieder nur der eingerückte Code zählt zur darüberstehenden Zeile. "
      ]
    },
    {
      "cell_type": "markdown",
      "metadata": {
        "id": "E0VcFTIcYOrk",
        "colab_type": "text"
      },
      "source": [
        "**Aufgabe:** \\\\\n",
        "Wie muss die nachstehende Variable `alter` geändert werden, damit der Text der `else`-Anweisung ausgegeben wird?"
      ]
    },
    {
      "cell_type": "code",
      "metadata": {
        "id": "I-yQvRzNvp05",
        "colab_type": "code",
        "colab": {}
      },
      "source": [
        "alter = 5\n",
        "\n",
        "if alter <= 15: \n",
        "  print(\"Bitte kaufen Sie eine ermäßigte Eintrittskarte.\")\n",
        "else: \n",
        "  print(\"Bitte kaufen Sie eine Eintrittskarte für Erwachsene.\")\n",
        "\n"
      ],
      "execution_count": 0,
      "outputs": []
    },
    {
      "cell_type": "markdown",
      "metadata": {
        "id": "L6RPSUj4zCSE",
        "colab_type": "text"
      },
      "source": [
        "Wenn man mehrere `if`-Bedingungen anführen möchte, die einander ausschließen, kann man `else` durch mehrere `elif`-Anweisungen ersetzen. "
      ]
    },
    {
      "cell_type": "markdown",
      "metadata": {
        "colab_type": "text",
        "id": "sHDiVL2jwnTx"
      },
      "source": [
        "**Aufgabe:** \\\\\n",
        "Verwendene Sie den Wert der nachstehende Variable `alter` so oft, bis jede der drei `print`-Befehle einmal ausgegeben wurde. Mit anderen Worte, bei jeder Änderung der Variable `alter` sollte ein anderer `print`-Befehl ausgegeben werden. Warum wird immer nur einer der drei `print`-Befehle ausgegeben?"
      ]
    },
    {
      "cell_type": "code",
      "metadata": {
        "colab_type": "code",
        "id": "jTf5-16pwnT5",
        "colab": {}
      },
      "source": [
        "# Auskunft über Ermäßigungen der Eintrittskarten für den Tiergarten Schönnbrunn\n",
        "alter = 6\n",
        "\n",
        "if alter > 15: \n",
        "  print(\"Bitte kaufen Sie eine Eintrittskarte für Erwachsene.\")\n",
        "\n",
        "elif alter >= 6 and alter <= 15: \n",
        "  print(\"Sie erhalten eine ermäßigte Eintrittskarte für Kinder und Jugendliche.\")\n",
        "\n",
        "elif alter < 6: \n",
        "  print(\"Eintrittskarten für Kinder unter 6 Jahren sind kostenlos.\")"
      ],
      "execution_count": 0,
      "outputs": []
    },
    {
      "cell_type": "markdown",
      "metadata": {
        "id": "kmrrb8CUn27m",
        "colab_type": "text"
      },
      "source": [
        "Der operator `and` stellt einen logischen Operator dar, der nur dann `True` zurückgibt und dessen Bedinungen nur dann erfüllt sind, wenn beide Bedingungen links und rechts des `and` wahr sind. Weitere logische Operatoren:\n",
        "\n",
        "*   `and`: liefert `true` zurück wenn beide Bedinungen links und rechts des `and` wahr sind  \n",
        "*   `or`: liefert `true` zurück wenn eine der Bedingungen wahr ist \n",
        "*   `not`: liefert das Gegenteil des derzeitigen Statuses zurück\n",
        "\n",
        "Zum Beispiel: \n",
        "\n",
        "\n"
      ]
    },
    {
      "cell_type": "code",
      "metadata": {
        "id": "oMvyfN1xoxyr",
        "colab_type": "code",
        "colab": {}
      },
      "source": [
        "var1 = True \n",
        "var2 = False \n",
        "print(var1)\n",
        "print(var1 and var2)\n",
        "print(var1 or var2)\n",
        "print(not(var1))"
      ],
      "execution_count": 0,
      "outputs": []
    },
    {
      "cell_type": "markdown",
      "metadata": {
        "id": "w-OYMnyMpIx_",
        "colab_type": "text"
      },
      "source": [
        "**Frage** \\\\\n",
        "Was ist die Ausgabe der folgenden beiden `print`-Befehle?"
      ]
    },
    {
      "cell_type": "code",
      "metadata": {
        "id": "Dimkvku5pPLh",
        "colab_type": "code",
        "colab": {}
      },
      "source": [
        "print(var1 and var1)\n",
        "print(not(var2))\n",
        "print(not(var2) and var1)"
      ],
      "execution_count": 0,
      "outputs": []
    },
    {
      "cell_type": "markdown",
      "metadata": {
        "id": "uNaZk-NQVi16",
        "colab_type": "text"
      },
      "source": [
        "# Lektion 2: Schleifen\n",
        "\n",
        "Durch eine Schleife kann über eine Sequenz iteriert werden (Liste, Satz, Zeichenkette, etc.). Zum Beispiel: "
      ]
    },
    {
      "cell_type": "code",
      "metadata": {
        "id": "imDjIMHmZk29",
        "colab_type": "code",
        "colab": {}
      },
      "source": [
        "# Beispiel String \n",
        "my_string = \"Banane\"\n",
        "for element in my_string:\n",
        "  print(element)\n"
      ],
      "execution_count": 0,
      "outputs": []
    },
    {
      "cell_type": "code",
      "metadata": {
        "id": "bTStZESgWer8",
        "colab_type": "code",
        "colab": {}
      },
      "source": [
        "# Beispiel Liste \n",
        "my_list = [\"Programmieren für ÜbersetzerInnen\", \"Freitag\", \"Februar\", \"Gymnasiumstraße\"]\n",
        "print(\"Gesamte Liste: \", my_list)\n",
        "print(\"Einzelne Elemente: \")\n",
        "for element in my_list: \n",
        "  print(element)"
      ],
      "execution_count": 0,
      "outputs": []
    },
    {
      "cell_type": "markdown",
      "metadata": {
        "id": "4Bw5x0FsZ37r",
        "colab_type": "text"
      },
      "source": [
        "Schleifen werden häufig mit anderen Anweisungen kombiniert, wie z. B. der `if` Anweisung. Bei einer `for`-Schleife wird eine Kopie der Elemente erstellt, dass heißt, wenn Sie die Elemente in der Schleife bearbeiten, hat das keine Auswirkung auf die originale Liste. "
      ]
    },
    {
      "cell_type": "code",
      "metadata": {
        "id": "xJnsHvFHZ-H9",
        "colab_type": "code",
        "colab": {}
      },
      "source": [
        "for x in my_list: \n",
        "  if x == \"Freitag\":\n",
        "    x = \"Samstag\"\n",
        "      \n",
        "print(my_list)"
      ],
      "execution_count": 0,
      "outputs": []
    },
    {
      "cell_type": "markdown",
      "metadata": {
        "id": "8kk6rMfUbX7A",
        "colab_type": "text"
      },
      "source": [
        "Um in der Liste oben \"Freitag\" auf \"Samstag\" zu ändern, müssen wir zuerst den Index des Eintrags in der Liste finden und diesem Index dann einen neuen Wert zuweisen.\n",
        "\n",
        "**Frage:** \\\\\n",
        "Was passiert wenn Sie den nachstehenden Code zwei Mal ausführen und warum? "
      ]
    },
    {
      "cell_type": "code",
      "metadata": {
        "id": "_gzvCiFWbXK9",
        "colab_type": "code",
        "colab": {}
      },
      "source": [
        "print(\"Meine Liste: \", my_list)\n",
        "\n",
        "# Zuerst überprüfen wir ob Freitag in der Liste ist\n",
        "if \"Freitag\" in my_list: \n",
        "  this_index = my_list.index(\"Freitag\")\n",
        "  print(\"Freitag hat den Index: \", this_index)\n",
        "\n",
        "  my_list[this_index] = \"Samstag\"\n",
        "  print(\"Meine Liste danach: \", my_list)\n",
        " \n",
        "else: \n",
        "  print('Es gibt das Wort \"Freitag\" nicht in dieser Liste.')"
      ],
      "execution_count": 0,
      "outputs": []
    },
    {
      "cell_type": "markdown",
      "metadata": {
        "id": "5Yy9x6ZLch3-",
        "colab_type": "text"
      },
      "source": [
        "# Lektion 3: Funktionen\n",
        "\n",
        "Wenn Sie mehrere Zeilen Code haben, die eine bestimmte Aufgabe erfüllen und Sie diese öfter ausführen wollen, dann kann man das mit Funktionen machen. Sie können eine definierte Funktion von jeder Stelle des Codes danach und mehrfach aufrufen. Funktionen folgen dem folgenden Schema: \n",
        "\n",
        "```\n",
        "def funktions-name(Parameterliste):\n",
        "    Anweisung(en)\n",
        "    return Ausgabe\n",
        "```\n",
        "\n",
        "\n",
        "\n",
        "Funktionen werden mithilfe des Ausdrucks `def` definiert und erhalten einen bestimmten Namen. Zum Beispiel: "
      ]
    },
    {
      "cell_type": "code",
      "metadata": {
        "id": "afJoEorhc8Ef",
        "colab_type": "code",
        "colab": {}
      },
      "source": [
        "def welcomeMessage():\n",
        "  print('Willkommen zum ersten Workshop \"Programmieren für ÜbersetzerInnen\" der ein paar Grundbegriffe erklärt und Hilfe zur Selbsthilfe bieten soll!')\n",
        "  return\n",
        "\n",
        "welcomeMessage()\n",
        "print(\"Irgendeine anderen Nachricht\")\n",
        "welcomeMessage()"
      ],
      "execution_count": 0,
      "outputs": []
    },
    {
      "cell_type": "markdown",
      "metadata": {
        "id": "r1f8IBBudjuq",
        "colab_type": "text"
      },
      "source": [
        "In den Klammern kann man der Funktion eine Variable übergeben, die dann bearbeitet und mithilfe der `return` Zeile wieder zurückgegeben werden kann. Zum Beispiel: "
      ]
    },
    {
      "cell_type": "code",
      "metadata": {
        "id": "R19DJ61Wdv05",
        "colab_type": "code",
        "colab": {}
      },
      "source": [
        "\"\"\" Gibt die Temperatur in Farenheit zurück \"\"\"\n",
        "def celciusToFahrenheit(T_in_celsius):\n",
        "    farenheit = (T_in_celsius * 9 / 5) + 32\n",
        "    return farenheit \n",
        "    \n",
        "print(\"Celcius -11: \", celciusToFahrenheit(-11), \" Farenheit\")\n",
        "print(\"Celcius 25: \", celciusToFahrenheit(25), \" Farenheit\")\n",
        "print(\"Celcius 94: \", celciusToFahrenheit(94), \" Farenheit\")"
      ],
      "execution_count": 0,
      "outputs": []
    },
    {
      "cell_type": "markdown",
      "metadata": {
        "id": "aphw686ZfJJF",
        "colab_type": "text"
      },
      "source": [
        "**Aufgabe** \\\\\n",
        "Schreiben Sie eine Funktion die zwei Zahlen addiert und das Ergebnis zurück gibt. Schreiben Sie weitere Tests für Ihre Funktion - derzeit wird die Funktion nur einmal aufgerufen. Schreiben Sie zwei weitere Aufrufe für die Funktion und überprüfen Sie das Ergebnis. "
      ]
    },
    {
      "cell_type": "code",
      "metadata": {
        "id": "GIx6S10agzcH",
        "colab_type": "code",
        "colab": {}
      },
      "source": [
        "def addTwoNumbers(num1, num2):\n",
        "  # Ihr Code sollte hier stehen \n",
        "  return \n",
        "\n",
        "# Testfall 1 \n",
        "print(\"2 + 2 = \", addTwoNumbers(2,2))\n",
        "# Weitere Testfälle "
      ],
      "execution_count": 0,
      "outputs": []
    }
  ]
}
